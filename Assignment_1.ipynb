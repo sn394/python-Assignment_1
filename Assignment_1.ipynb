{
  "cells": [
    {
      "cell_type": "markdown",
      "source": [
        "#Assignment_1"
      ],
      "metadata": {
        "id": "22xn8hzCj1sI"
      }
    },
    {
      "cell_type": "markdown",
      "metadata": {
        "id": "PZ2CdwKSeByt"
      },
      "source": [
        "#1) What is Python, and why is it popular?\n",
        "\n",
        " --> Python is a high-level,interpreted programming language created by Gudio van Rossum in 1991.\n",
        "\n",
        "  -->it's popular because it is very easy to learn ,versatility(web,dev,ML),readability, a lot of libraries, huge active community\n",
        "\n",
        "\n",
        "#2) What is an interpreter in Python?\n",
        "\n",
        "  -->An interpreter is a program that runs python code line by line\n",
        "  \n",
        "  -->It reads the code,converts it into machine language,and shows the output immediately.\n",
        "\n",
        "  -->This helps in finding and fixing errors easily\n",
        "\n",
        "\n",
        "#3) What are pre-defined keywords in Python?\n",
        "\n",
        " -->pre-defined keywords are special reserved words that have fixed meaning in python.\n",
        "\n",
        " --> They cannot be used as variable names because they are used by python to define its rules\n",
        "\n",
        "Examples:\n",
        "\n",
        "    if      else    while    for\n",
        "    True    False   class    def\n",
        "    import  from    None     continue\n",
        "    global  pass    raise    or\n",
        "    async   except  lambda   with\n",
        "\n",
        "\n",
        "#4)Can keywords be used as variable names?\n",
        "\n",
        " -->NO,keywords cannot be used as variable names because they already have a special meaning in python.\n",
        "\n",
        " -->if we try to use a keyword as a variable name.it will show an error\n",
        "\n",
        " Example:\n",
        "\n",
        "    if=5 #This will show error\n",
        "\n",
        "\n",
        "#5) What is mutability in Python?\n",
        "\n",
        "  -->mutability means the objects/container whose state or value can be changed after they are created.\n",
        "\n",
        " -->You can add, remove, or modify elements\n",
        "   \n",
        " -->list is a type of mutable object\n",
        "\n",
        "   Example:\n",
        "   \n",
        "          list=[1,2,3,\"some\",4,5]\n",
        "          list[2]=4\n",
        "          list\n",
        "\n",
        "\n",
        "#6) Why are lists mutable, but tuples are immutable?\n",
        "\n",
        " --> lists are mutable because their elements can be  changed,added or removed after the list is created\n",
        "\n",
        " -->(methods:append(),remove,index assignment)\n",
        "\n",
        " Example:\n",
        "\n",
        "        list=[1,2,3,\"ss\",\"bro\",6]\n",
        "        list.append(8)\n",
        "        list.remove(\"bro\")\n",
        "        list[0]\n",
        "        list\n",
        "  \n",
        "  ->tuples are immutable because once a tuple is created its size and elements cannot be changed(no append or assignments)\n",
        "\n",
        "\n",
        "\n",
        "  Example:\n",
        "       \n",
        "         tuple=(1,2,3,4,5)\n",
        "         tuple.append(6)# its shows an error\n",
        "         tuple\n",
        "\n",
        "\n",
        "\n",
        "#7) What is the difference between “==” and “is” operators in Python?\n",
        "  \n",
        "   --> == checks value equality(do the objects have the same value)\n",
        "\n",
        "      example:\n",
        "\n",
        "           a=10\n",
        "           b=10\n",
        "           a==b # shows a is equal to be b True.\n",
        "\n",
        "-->\"is\"  checks identity(are both names pointing to the same object in memory)\n",
        "\n",
        "example:\n",
        "\n",
        "        x = [1]\n",
        "        y = [1]\n",
        "        print(x == y)  # True\n",
        "        print(x is y)  # False\n",
        "\n",
        "\n",
        "\n",
        "#8) What are logical operators in Python?\n",
        "\n",
        "-->ths logical operators are \"and ,or, & not\" they combine or invert boolean expressions\n",
        "  \n",
        "  -->and->True only if both operands are True\n",
        "\n",
        "  -->or->True if at least one operand is True\n",
        "\n",
        "  -->not->inverts the boolean value(True->False,False->True)\n",
        "\n",
        "  Example:\n",
        "\n",
        "       i)True and True #True\n",
        "          becuase if both operands are True then its shows True\n",
        "\n",
        "        --> 10 & 10\n",
        "           o/p= 10\n",
        "\n",
        "       ii)True or False #True\n",
        "          at least one is True then its shows True\n",
        "\n",
        "         --> 3|5\n",
        "          o/p=7\n",
        "\n",
        "       iii) not True #False\n",
        "           its shows opposite to the given operand\n",
        "\n",
        "            --> ~3\n",
        "             o/p= -4\n",
        "\n",
        "\n",
        "#9) What is type casting in Python?\n",
        "\n",
        "   --> type casting(type conversion) is changing a  value from one data type to another\n",
        "\n",
        "   -->it is used when we want to perform operations between different data types or store data in a different form\n",
        "\n",
        "    There are two types of type casting in python:\n",
        "\n",
        "     =Type Casting-->\n",
        "                    1)Implicit\n",
        "                    2)Explicit\n",
        "\n",
        "    Example:\n",
        "\n",
        "      1)    a=\"2\"\n",
        "            b=3       \n",
        "            int(a)+b\n",
        "\n",
        "  \n",
        "     2)     a=1\n",
        "            float(a)\n",
        "            type(float(a))\n",
        "\n",
        "\n",
        "#10) What is the difference between implicit and explicit type casting ?\n",
        "\n",
        "          Implicit                                Explicit\n",
        "\n",
        "  1)      it is done automatically               it is done manually by the\n",
        "          by python without any user             programmer using functions\n",
        "          involvement                            like int(),float(),str()\n",
        "\n",
        "  2)      python safely converts one            The programmer decides what to\n",
        "          data type into another|(for           convert and performs the\n",
        "          example: int->float)                  conversion directly\n",
        "\n",
        "  3)      Example:                              Example:\n",
        "\n",
        "            a=2+3.5                             a=\"2\"\n",
        "            o/p=5.5                             int(a)\n",
        "            # (python converts int to           # manually converts string to\n",
        "            float automatically )               integer\n",
        "\n",
        "\n",
        "#11) What is the purpose of conditional statements in Python?\n",
        "\n",
        "  -->conditional statements are used to make decisions in a program.\n",
        "\n",
        "  ->They allow the program to execute different blocks of code based on condition(True or False)\n",
        "   \n",
        "   ->python uses(if,else,and else for conditional statement,deciion making)\n",
        "\n",
        "   Example:\n",
        "     \n",
        "            age=18\n",
        "            if age>=18:\n",
        "                print(\"you are an adult\")\n",
        "            else:\n",
        "                print(\"you are not an adult\")\n",
        "\n",
        "\n",
        "#12) How does the elif statement work?\n",
        "\n",
        "  --> the elif(else if) statement is used when you need to check multiple conditions one after another.\n",
        "\n",
        "  ->it comes after an if statement and is checked only if the previous if condition is False.\n",
        "\n",
        "  ->It runs only the block whose condition is True and ignore the rest.\n",
        "\n",
        "  Example:\n",
        "      \n",
        "      # find number positive,negative or zero\"\n",
        "          num=2\n",
        "          if num>0:\n",
        "              print(\"num is positive\")\n",
        "          elif num==0:\n",
        "              print(\"num is zero\")\n",
        "          else:\n",
        "              print(\"num is negative\")\n",
        "\n",
        "\n",
        "#13) What is the difference between for and while loops?\n",
        "\n",
        "\n",
        "         For loop                         while loop\n",
        "  \n",
        "1.      The for loop is used when         The while loop is used\n",
        "        we know the exact number          when we don’t know exactly\n",
        "        of times we want to               how many times the code needs to\n",
        "        repeat a block of code.           run.\n",
        "                                  \n",
        "2.       it works with sequence like        it runs as long as the given\n",
        "         lists,strings,or ranges            condition remains True\n",
        "\n",
        "3.        Example:                            Example:\n",
        "\n",
        "           for i in range(5):                 n=3\n",
        "               print(i)                       i=1          \n",
        "           #o/p:0                             while i<=n:            \n",
        "                1                              print(i)               \n",
        "                2                                i+=1  #o/p:1\n",
        "                3                                           2\n",
        "                4                                           3\n",
        "\n",
        "#14) Describe a scenario where a while loop is more suitable than a for loop?\n",
        "\n",
        " --> A while loop is more suitable when we don't know in advance how many times the code should repeat.\n",
        "\n",
        " -->it keeps running until a certain condition become False this is usefull when the number of iterations depends on user input or changing condition\n",
        "\n",
        " Example:\n",
        "\n",
        "   ->suppose we want to ask a user for their password until they enter it correctly.\n",
        "\n",
        "   Here,we don't know how many times the user might try so a while loop fits perfectly\n",
        "\n",
        "     \n",
        "      password=\"\"\n",
        "     while password !=\"python123\":\n",
        "         password=input(\"Enter password:\")\n",
        "         if password !=\"python123\":\n",
        "              print(\"Wrong password,try again!\")\n",
        "     print(\"Access granted!\")\n",
        "\n",
        "\n",
        "  "
      ]
    },
    {
      "cell_type": "code",
      "execution_count": null,
      "metadata": {
        "colab": {
          "base_uri": "https://localhost:8080/"
        },
        "id": "LGD8MqSbkfH8",
        "outputId": "61d44ae3-5eed-4f70-b02c-0e5c3ccde552"
      },
      "outputs": [
        {
          "output_type": "stream",
          "name": "stdout",
          "text": [
            "Hello, World!\n"
          ]
        }
      ],
      "source": [
        "#1) Write a Python program to print \"Hello, World!?\n",
        "print(\"Hello, World!\")"
      ]
    },
    {
      "cell_type": "code",
      "execution_count": null,
      "metadata": {
        "colab": {
          "base_uri": "https://localhost:8080/"
        },
        "id": "mmy_j_P_lzkj",
        "outputId": "acea8784-c19c-4b19-a154-78650eff3ec4"
      },
      "outputs": [
        {
          "output_type": "stream",
          "name": "stdout",
          "text": [
            "Enter your name: sneha\n",
            "Enter your age: 20\n",
            "Name: sneha\n",
            "Age: 20\n"
          ]
        }
      ],
      "source": [
        "# 2) Write a Python program that displays your name and age?\n",
        "age=int(input(\"Enter your age: \"))\n",
        "print(\"Name:\",name)\n",
        "print(\"Age:\",age)"
      ]
    },
    {
      "cell_type": "code",
      "execution_count": null,
      "metadata": {
        "colab": {
          "base_uri": "https://localhost:8080/"
        },
        "id": "_rxONeFPmAN2",
        "outputId": "29dc0a6a-5029-45ef-d4ef-15109bde1fa2"
      },
      "outputs": [
        {
          "output_type": "stream",
          "name": "stdout",
          "text": [
            "\n",
            "Here is a list of the Python keywords.  Enter any keyword to get more help.\n",
            "\n",
            "False               class               from                or\n",
            "None                continue            global              pass\n",
            "True                def                 if                  raise\n",
            "and                 del                 import              return\n",
            "as                  elif                in                  try\n",
            "assert              else                is                  while\n",
            "async               except              lambda              with\n",
            "await               finally             nonlocal            yield\n",
            "break               for                 not                 \n",
            "\n"
          ]
        }
      ],
      "source": [
        "# 3) Write code to print all the pre-defined keywords in Python using the keyword library?\n",
        "\n",
        "help(\"keywords\")"
      ]
    },
    {
      "cell_type": "code",
      "execution_count": null,
      "metadata": {
        "id": "Fs9MgpeUnOK9",
        "colab": {
          "base_uri": "https://localhost:8080/"
        },
        "outputId": "f3e5394c-92a8-4d11-e307-5f267df2707e"
      },
      "outputs": [
        {
          "output_type": "stream",
          "name": "stdout",
          "text": [
            "Enter a word:for\n",
            "the word is a keyword\n"
          ]
        }
      ],
      "source": [
        "#4) Write a program that checks if a given word is a Python keyword?\n",
        "word=input(\"Enter a word:\")\n",
        "keywords=[\"False\",\"class\" ,\"from\",\"or\",\"None\",\"continue\",\"global\",\"pass\",\"True\",\"def\",\"if\",\"raise\",\"and\",\"del\",\"import\",\"return\",\"as\",\"elif\",\"in\",\"try\",\"assert\",\"else\",\"is\",\n",
        "          \"while\",\"async\",\"except\",\"lambda\",\"with\",\"await\",\"finally\",\"nonlocal\",\"yield\",\"break\",\"for\",\"not\"]\n",
        "if word in keywords:\n",
        "  print(\"the word is a keyword\")\n",
        "else:\n",
        "  print(\"the word is not a keyword\")\n"
      ]
    },
    {
      "cell_type": "code",
      "source": [
        "#5) Create a list and tuple in Python, and demonstrate how attempting to change an element works differently for each?\n",
        "list=[1,2,3,4,5]\n",
        "tuple=(1,2,3,4,5)\n",
        "list[0]=10\n",
        "#tuple[0]=10 # This line will cause an error because tuples are immutable\n",
        "print(list)\n",
        "print(tuple)"
      ],
      "metadata": {
        "colab": {
          "base_uri": "https://localhost:8080/"
        },
        "id": "T0LviDIjHPVY",
        "outputId": "84846d90-abff-4f46-ac0a-f023f4ea923f"
      },
      "execution_count": null,
      "outputs": [
        {
          "output_type": "stream",
          "name": "stdout",
          "text": [
            "[10, 2, 3, 4, 5]\n",
            "(1, 2, 3, 4, 5)\n"
          ]
        }
      ]
    },
    {
      "cell_type": "code",
      "execution_count": null,
      "metadata": {
        "id": "vZbxMUzM_Xdy",
        "colab": {
          "base_uri": "https://localhost:8080/"
        },
        "outputId": "c8755d88-b96a-4ebb-b311-a039a9e96b34"
      },
      "outputs": [
        {
          "output_type": "stream",
          "name": "stdout",
          "text": [
            "5 6\n",
            "[1, 2, 3, 4] [1, 2, 3, 4]\n"
          ]
        }
      ],
      "source": [
        "#6)  Write a function to demonstrate the behavior of mutable and immutable arguments?\n",
        "\n",
        "# Immutable example\n",
        "a = 5\n",
        "b = a\n",
        "b = b + 1\n",
        "print(a, b)   #output: a=5 (doesn't change), b=6\n",
        "\n",
        "# Mutable example\n",
        "x = [1,2,3]\n",
        "y = x\n",
        "y.append(4)\n",
        "print(x, y)   # output: x=[1,2,3,4], y=[1,2,3,4]\n"
      ]
    },
    {
      "cell_type": "code",
      "execution_count": null,
      "metadata": {
        "id": "eUTviaj6_jlf",
        "colab": {
          "base_uri": "https://localhost:8080/"
        },
        "outputId": "d449f70f-e14c-4b26-e404-a33a8ed10e14"
      },
      "outputs": [
        {
          "output_type": "stream",
          "name": "stdout",
          "text": [
            "Enter a first number: 10\n",
            "Enter a second number: 10\n",
            "the addition is: 20\n",
            "the substraction is: 0\n",
            "the multiplication is: 100\n",
            "the division is: 1.0\n"
          ]
        }
      ],
      "source": [
        "#7)Write a program that performs basic arithmetic operations on two user-input numbers.?\n",
        "num1=int(input(\"Enter a first number: \"))\n",
        "num2=int(input(\"Enter a second number: \"))\n",
        "print(\"the addition is:\", num1+num2)\n",
        "print(\"the substraction is:\", num1-num2)\n",
        "print(\"the multiplication is:\", num1*num2)\n",
        "print(\"the division is:\", num1/num2)\n"
      ]
    },
    {
      "cell_type": "code",
      "execution_count": null,
      "metadata": {
        "id": "lNvJfX3q_rrQ",
        "colab": {
          "base_uri": "https://localhost:8080/"
        },
        "outputId": "0484a56a-cb36-45eb-b610-673f08c6d584"
      },
      "outputs": [
        {
          "output_type": "stream",
          "name": "stdout",
          "text": [
            "x and y is: False\n",
            "x or y is: True\n",
            "not x is: False\n",
            "not y is: True\n"
          ]
        }
      ],
      "source": [
        "# 8) Write a program to demonstrate the use of logical operators?\n",
        "x=True\n",
        "y=False\n",
        "print(\"x and y is:\", x and y) #False\n",
        "print(\"x or y is:\", x or y)   #True\n",
        "print(\"not x is:\", not x)     #False\n",
        "print(\"not y is:\", not y)     #True"
      ]
    },
    {
      "cell_type": "code",
      "execution_count": null,
      "metadata": {
        "id": "Wtu1fsf-_v-G",
        "colab": {
          "base_uri": "https://localhost:8080/"
        },
        "outputId": "8f937a0c-c199-40a8-ffab-585e8cd1a1b9"
      },
      "outputs": [
        {
          "output_type": "stream",
          "name": "stdout",
          "text": [
            "Enter a number:5\n",
            "<class 'int'>\n",
            "<class 'float'>\n",
            "<class 'bool'>\n"
          ]
        }
      ],
      "source": [
        "#9)  Write a Python program to convert user input from string to integer, float, and boolean types?\n",
        "num=input(\"Enter a number:\")\n",
        "num=int(num)\n",
        "print(type(num))\n",
        "num=float(num)\n",
        "print(type(num))\n",
        "num=bool(num)\n",
        "print(type(num))\n",
        "\n",
        "\n"
      ]
    },
    {
      "cell_type": "code",
      "execution_count": null,
      "metadata": {
        "id": "SekEepLp_zt3",
        "colab": {
          "base_uri": "https://localhost:8080/"
        },
        "outputId": "9e3edb51-2dcc-4505-8993-b1084afabd65"
      },
      "outputs": [
        {
          "output_type": "stream",
          "name": "stdout",
          "text": [
            "[1, 2, 3]\n"
          ]
        }
      ],
      "source": [
        "#10) Write code to demonstrate type casting with list elements.?\n",
        "my_list = [\"1\", \"2\", \"3\"]  # list of strings\n",
        "# Convert elements one by one\n",
        "my_list[0] = int(my_list[0])\n",
        "my_list[1] = int(my_list[1])\n",
        "my_list[2] = int(my_list[2])\n",
        "print(my_list)  # [1, 2, 3]\n"
      ]
    },
    {
      "cell_type": "code",
      "execution_count": null,
      "metadata": {
        "colab": {
          "base_uri": "https://localhost:8080/"
        },
        "id": "FOvdHq_U_6Iw",
        "outputId": "35669e79-e53a-4caf-dd40-62f7f700723c"
      },
      "outputs": [
        {
          "output_type": "stream",
          "name": "stdout",
          "text": [
            "Enter a number:0\n",
            "the number is zero\n"
          ]
        }
      ],
      "source": [
        "#11) Write a program that checks if a number is positive, negative, or zero.?\n",
        "num=int(input(\"Enter a number:\"))\n",
        "if num>0:\n",
        "  print(\"the number is positive\")\n",
        "elif num<0:\n",
        "  print(\"the number is negative\")\n",
        "else:\n",
        "  print(\"the number is zero\")"
      ]
    },
    {
      "cell_type": "code",
      "execution_count": null,
      "metadata": {
        "colab": {
          "base_uri": "https://localhost:8080/"
        },
        "id": "hUnQ_rVO_8zP",
        "outputId": "1e13c9ca-abc5-4158-e3d4-0eac3d7e9018"
      },
      "outputs": [
        {
          "output_type": "stream",
          "name": "stdout",
          "text": [
            "1\n",
            "2\n",
            "3\n",
            "4\n",
            "5\n",
            "6\n",
            "7\n",
            "8\n",
            "9\n",
            "10\n"
          ]
        }
      ],
      "source": [
        "#12) Write a for loop to print numbers from 1 to 10.?\n",
        "for i in range(1,11):\n",
        "     print(i)"
      ]
    },
    {
      "cell_type": "code",
      "execution_count": null,
      "metadata": {
        "id": "8Ig86XQoABU9",
        "colab": {
          "base_uri": "https://localhost:8080/"
        },
        "outputId": "21bea473-90f8-44a5-fbc5-b423532e63b9"
      },
      "outputs": [
        {
          "output_type": "stream",
          "name": "stdout",
          "text": [
            "the sum of all even numbers between 1 and 50 is: 650\n"
          ]
        }
      ],
      "source": [
        "#13)  Write a Python program to find the sum of all even numbers between 1 and 50.?\n",
        "sum=0\n",
        "for i in range(1,51):\n",
        "  if i%2==0:\n",
        "    sum=sum+i\n",
        "print(\"the sum of all even numbers between 1 and 50 is:\",sum)"
      ]
    },
    {
      "cell_type": "code",
      "execution_count": null,
      "metadata": {
        "id": "4f1VOsd0AE5h",
        "colab": {
          "base_uri": "https://localhost:8080/"
        },
        "outputId": "348500db-208e-4973-e178-e2329f2aa65b"
      },
      "outputs": [
        {
          "output_type": "stream",
          "name": "stdout",
          "text": [
            "Enter a string:hello\n",
            "olleh"
          ]
        }
      ],
      "source": [
        "#14) Write a program to reverse a string using a while loop.?\n",
        "string=input(\"Enter a string:\")\n",
        "i=len(string)-1\n",
        "while i>=0:\n",
        "  print(string[i],end=\"\")\n",
        "  i=i-1"
      ]
    },
    {
      "cell_type": "code",
      "execution_count": null,
      "metadata": {
        "id": "RqZSVW1wAKNq",
        "colab": {
          "base_uri": "https://localhost:8080/"
        },
        "outputId": "eb0652ed-fdbd-4166-a12f-f09515cb24ee"
      },
      "outputs": [
        {
          "output_type": "stream",
          "name": "stdout",
          "text": [
            "Enter a number:4\n",
            "the factorial is: 24\n"
          ]
        }
      ],
      "source": [
        "#15) Write a Python program to calculate the factorial of a number provided by the user using a while loop.?\n",
        "num1=int(input(\"Enter a number:\"))\n",
        "fact=1\n",
        "while num1>0:\n",
        "  fact=fact*num1\n",
        "  num1=num1-1\n",
        "print(\"the factorial is:\",fact)"
      ]
    }
  ],
  "metadata": {
    "colab": {
      "provenance": []
    },
    "kernelspec": {
      "display_name": "Python 3",
      "name": "python3"
    },
    "language_info": {
      "name": "python"
    }
  },
  "nbformat": 4,
  "nbformat_minor": 0
}